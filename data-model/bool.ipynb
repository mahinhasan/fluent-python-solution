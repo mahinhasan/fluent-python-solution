{
 "metadata": {
  "language_info": {
   "codemirror_mode": {
    "name": "ipython",
    "version": 3
   },
   "file_extension": ".py",
   "mimetype": "text/x-python",
   "name": "python",
   "nbconvert_exporter": "python",
   "pygments_lexer": "ipython3",
   "version": "3.8.5"
  },
  "orig_nbformat": 2,
  "kernelspec": {
   "name": "python3",
   "display_name": "Python 3.8.5 64-bit",
   "metadata": {
    "interpreter": {
     "hash": "31f2aee4e71d21fbe5cf8b01ff0e069b9275f58929596ceb00d14d90e3e16cd6"
    }
   }
  }
 },
 "nbformat": 4,
 "nbformat_minor": 2,
 "cells": [
  {
   "cell_type": "code",
   "execution_count": 14,
   "metadata": {},
   "outputs": [],
   "source": [
    "class Student():\n",
    "    val = 0\n",
    "    def __init__(self,num):\n",
    "        self.val = num\n",
    "\n",
    "    def __bool__(self):\n",
    "        return bool(self.val)\n",
    "    "
   ]
  },
  {
   "cell_type": "code",
   "execution_count": 22,
   "metadata": {},
   "outputs": [
    {
     "output_type": "stream",
     "name": "stdout",
     "text": [
      "Yes he is still now student!!!!!!!!!!!!!!!!!\n"
     ]
    }
   ],
   "source": [
    "# is_student = Student(0)\n",
    "is_student = Student(5)\n",
    "\n",
    "\n",
    "if is_student.val==0:\n",
    "    print(\"No !\")\n",
    "else:\n",
    "    print(\"Yes he is still now student!!!!!!!!!!!!!!!!!\")"
   ]
  },
  {
   "cell_type": "code",
   "execution_count": null,
   "metadata": {},
   "outputs": [],
   "source": []
  }
 ]
}